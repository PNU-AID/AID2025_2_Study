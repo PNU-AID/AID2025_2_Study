{
 "cells": [
  {
   "cell_type": "code",
   "execution_count": null,
   "id": "6bd7e668",
   "metadata": {},
   "outputs": [],
   "source": [
    "import numpy as np\n",
    "import matplotlib.pyplot as plt\n",
    "from sklearn.linear_model import Ridge\n",
    "from sklearn.preprocessing import StandardScaler\n",
    "from sklearn.model_selection import train_test_split\n",
    "from sklearn.datasets import load_boston  # 예시 데이터\n",
    "\n",
    "# 1. 데이터 불러오기\n",
    "X, y = load_boston(return_X_y=True)\n",
    "\n",
    "# 2. 데이터 표준화\n",
    "scaler = StandardScaler()\n",
    "X_scaled = scaler.fit_transform(X)\n",
    "\n",
    "# 3. 훈련/테스트 세트 분리\n",
    "X_train, X_test, y_train, y_test = train_test_split(X_scaled, y, random_state=42)\n",
    "\n",
    "# 4. 규제 강도(alpha)를 바꿔가며 Ridge 회귀 실행\n",
    "alphas = [0.001, 0.01, 0.1, 1, 10, 100]\n",
    "coef_list = []\n",
    "\n",
    "for alpha in alphas:\n",
    "    ridge = Ridge(alpha=alpha)\n",
    "    ridge.fit(X_train, y_train)\n",
    "    coef_list.append(ridge.coef_)\n",
    "    print(f\"alpha={alpha:>6}: 계수 크기 평균 = {np.mean(np.abs(ridge.coef_)):.4f}\")\n",
    "\n",
    "# 5. 규제값별 계수 변화 시각화\n",
    "plt.figure(figsize=(10, 6))\n",
    "for i in range(X.shape[1]):\n",
    "    plt.plot(alphas, [coef[i] for coef in coef_list], label=f'Feature {i}' if i < 5 else \"\", alpha=0.6)\n",
    "\n",
    "plt.xscale('log')\n",
    "plt.xlabel('alpha (규제 강도)')\n",
    "plt.ylabel('계수 값')\n",
    "plt.title('규제값 변화에 따른 계수 크기 변화')\n",
    "plt.show()\n"
   ]
  }
 ],
 "metadata": {
  "kernelspec": {
   "display_name": "Python 3",
   "language": "python",
   "name": "python3"
  },
  "language_info": {
   "codemirror_mode": {
    "name": "ipython",
    "version": 3
   },
   "file_extension": ".py",
   "mimetype": "text/x-python",
   "name": "python",
   "nbconvert_exporter": "python",
   "pygments_lexer": "ipython3",
   "version": "3.13.2"
  }
 },
 "nbformat": 4,
 "nbformat_minor": 5
}
