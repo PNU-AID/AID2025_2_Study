{
 "cells": [
  {
   "cell_type": "code",
   "execution_count": null,
   "id": "48955d25",
   "metadata": {},
   "outputs": [],
   "source": [
    "import pandas as pd\n",
    "import numpy as np\n",
    "import matplotlib.pyplot as plt\n",
    "from sklearn.model_selection import train_test_split\n",
    "from sklearn.preprocessing import PolynomialFeatures, StandardScaler\n",
    "from sklearn.linear_model import Ridge, Lasso\n",
    "\n",
    "# 변수 앞에 붙는 계수를 압축해서 경향을 직관적으로 파악할 수 있게 데이터를 처리한다.\n",
    "\n",
    "# 1. 데이터 준비 및 분할\n",
    "df = pd.read_csv('https://bit.ly/perch_csv_data')\n",
    "perch_full = df.to_numpy()\n",
    "perch_weight = np.array(\n",
    "    [5.9, 32.0, 40.0, 51.5, 70.0, 100.0, 78.0, 80.0, 85.0, 85.0,\n",
    "     110.0, 115.0, 125.0, 130.0, 120.0, 120.0, 130.0, 135.0, 110.0,\n",
    "     130.0, 150.0, 145.0, 150.0, 170.0, 225.0, 145.0, 188.0, 180.0,\n",
    "     197.0, 218.0, 300.0, 260.0, 265.0, 250.0, 250.0, 300.0, 320.0,\n",
    "     514.0, 556.0, 840.0, 685.0, 700.0, 700.0, 690.0, 900.0, 650.0,\n",
    "     820.0, 850.0, 900.0, 1015.0, 820.0, 1100.0, 1000.0, 1100.0,\n",
    "     1000.0, 1000.0]\n",
    ")\n",
    "\n",
    "train_input, test_input, train_target, test_target = train_test_split(perch_full, perch_weight, random_state=42)"
   ]
  },
  {
   "cell_type": "code",
   "execution_count": null,
   "id": "fe30e80b",
   "metadata": {},
   "outputs": [],
   "source": [
    "# 2. 특성 공학 및 스케일링\n",
    "poly = PolynomialFeatures(degree=5, include_bias=False)\n",
    "poly.fit(train_input)\n",
    "train_poly = poly.transform(train_input)\n",
    "test_poly = poly.transform(test_input)\n",
    "\n",
    "ss = StandardScaler()\n",
    "ss.fit(train_poly)\n",
    "train_scaled = ss.transform(train_poly)\n",
    "test_scaled = ss.transform(test_poly)\n",
    "\n",
    "print(\"모델의 계수 변화를 확인하기 위한 준비 완료.\")\n",
    "print(f\"변환된 특성 개수: {train_scaled.shape[1]}개\")\n",
    "print(\"-\" * 50)"
   ]
  },
  {
   "cell_type": "code",
   "execution_count": null,
   "id": "bd0fae39",
   "metadata": {},
   "outputs": [],
   "source": [
    "# 릿지 규제 (alpha 값에 따른 계수 변화)\n",
    "print(\"### 릿지 모델의 계수 변화 ###\")\n",
    "ridge_coefs = []\n",
    "alpha_list = [0.01, 0.1, 1, 10, 100]\n",
    "for alpha in alpha_list:\n",
    "    ridge = Ridge(alpha=alpha)\n",
    "    ridge.fit(train_scaled, train_target)\n",
    "    ridge_coefs.append(ridge.coef_)\n",
    "    print(f\"alpha={alpha:<5} | 계수 크기(L2 Norm): {np.linalg.norm(ridge.coef_):.2f}\")"
   ]
  },
  {
   "cell_type": "code",
   "execution_count": null,
   "id": "85a7164d",
   "metadata": {},
   "outputs": [],
   "source": [
    "# 릿지 계수 변화 시각화\n",
    "plt.figure(figsize=(10, 6))\n",
    "# np.array(ridge_coefs).T -> ridge_coefs로 수정\n",
    "plt.plot(np.log10(alpha_list), ridge_coefs) \n",
    "plt.xlabel('log10(alpha)')\n",
    "plt.ylabel('coefficient size')\n",
    "plt.title('Ridge Coefficients vs. alpha')\n",
    "plt.show()\n",
    "\n",
    "print(\"-\" * 50)\n"
   ]
  },
  {
   "cell_type": "code",
   "execution_count": null,
   "id": "641223a7",
   "metadata": {},
   "outputs": [],
   "source": [
    "# 라쏘 규제 (alpha 값에 따른 계수 변화)\n",
    "print(\"### 라쏘 모델의 계수 변화 ###\")\n",
    "lasso_coefs = []\n",
    "for alpha in alpha_list:\n",
    "    lasso = Lasso(alpha=alpha, max_iter=100000)\n",
    "    lasso.fit(train_scaled, train_target)\n",
    "    lasso_coefs.append(lasso.coef_)\n",
    "    zero_coefs = np.sum(lasso.coef_ == 0)\n",
    "    print(f\"alpha={alpha:<5} | 0이 된 계수 개수: {zero_coefs}개 | 계수 크기(L1 Norm): {np.linalg.norm(lasso.coef_, 1):.2f}\")"
   ]
  },
  {
   "cell_type": "code",
   "execution_count": null,
   "id": "943634da",
   "metadata": {},
   "outputs": [],
   "source": [
    "# 라쏘 계수 변화 시각화\n",
    "plt.figure(figsize=(10, 6))\n",
    "# np.array(lasso_coefs).T -> lasso_coefs로 수정\n",
    "plt.plot(np.log10(alpha_list), lasso_coefs) \n",
    "plt.xlabel('log10(alpha)')\n",
    "plt.ylabel('coefficient size')\n",
    "plt.title('Lasso Coefficients vs. alpha')\n",
    "plt.show()"
   ]
  }
 ],
 "metadata": {
  "language_info": {
   "name": "python"
  }
 },
 "nbformat": 4,
 "nbformat_minor": 5
}
