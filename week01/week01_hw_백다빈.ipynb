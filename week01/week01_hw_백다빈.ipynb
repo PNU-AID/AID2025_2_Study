{
  "nbformat": 4,
  "nbformat_minor": 0,
  "metadata": {
    "colab": {
      "provenance": []
    },
    "kernelspec": {
      "name": "python3",
      "display_name": "Python 3"
    },
    "language_info": {
      "name": "python"
    }
  },
  "cells": [
    {
      "cell_type": "code",
      "execution_count": null,
      "metadata": {
        "colab": {
          "base_uri": "https://localhost:8080/"
        },
        "id": "pmSvVLk8OaIu",
        "outputId": "18a00394-e726-439d-adf6-d8deeb0c8a40"
      },
      "outputs": [
        {
          "output_type": "execute_result",
          "data": {
            "text/plain": [
              "(array([[ 25.4, 242. ],\n",
              "        [ 26.3, 290. ],\n",
              "        [ 26.5, 340. ],\n",
              "        [ 29. , 363. ],\n",
              "        [ 29. , 430. ]]),\n",
              " array([1., 1., 1., 1., 1.]))"
            ]
          },
          "metadata": {},
          "execution_count": 1
        }
      ],
      "source": [
        "#데이터 준비\n",
        "fish_length = [25.4, 26.3, 26.5, 29.0, 29.0, 29.7, 29.7, 30.0, 30.0, 30.7, 31.0, 31.0,\n",
        "                31.5, 32.0, 32.0, 32.0, 33.0, 33.0, 33.5, 33.5, 34.0, 34.0, 34.5, 35.0,\n",
        "                35.0, 35.0, 35.0, 36.0, 36.0, 37.0, 38.5, 38.5, 39.5, 41.0, 41.0, 9.8,\n",
        "                10.5, 10.6, 11.0, 11.2, 11.3, 11.8, 11.8, 12.0, 12.2, 12.4, 13.0, 14.3, 15.0]\n",
        "fish_weight = [242.0, 290.0, 340.0, 363.0, 430.0, 450.0, 500.0, 390.0, 450.0, 500.0, 475.0, 500.0,\n",
        "                500.0, 340.0, 600.0, 600.0, 700.0, 700.0, 610.0, 650.0, 575.0, 685.0, 620.0, 680.0,\n",
        "                700.0, 725.0, 720.0, 714.0, 850.0, 1000.0, 920.0, 955.0, 925.0, 975.0, 950.0, 6.7,\n",
        "                7.5, 7.0, 9.7, 9.8, 8.7, 10.0, 9.9, 9.8, 12.2, 13.4, 12.2, 19.7, 19.9]\n",
        "\n",
        "import numpy as np\n",
        "fish_data = np.column_stack((fish_length, fish_weight))\n",
        "fish_target = np.concatenate((np.ones(35), np.zeros(14)))\n",
        "fish_data[:5], fish_target[:5]\n"
      ]
    },
    {
      "cell_type": "code",
      "source": [
        "#훈련, 테스트 세트 분리\n",
        "from sklearn.model_selection import train_test_split\n",
        "\n",
        "train_input, test_input, train_target, test_target = train_test_split(\n",
        "    fish_data, fish_target, random_state=42)\n",
        "\n",
        "print(train_input.shape, test_input.shape)\n"
      ],
      "metadata": {
        "colab": {
          "base_uri": "https://localhost:8080/"
        },
        "id": "zx52hNOdPgtg",
        "outputId": "67eabca9-43b2-4ccd-e25d-ae35421e36da"
      },
      "execution_count": null,
      "outputs": [
        {
          "output_type": "stream",
          "name": "stdout",
          "text": [
            "(36, 2) (13, 2)\n"
          ]
        }
      ]
    },
    {
      "cell_type": "code",
      "source": [
        "# 3. 스케일링 전 KNN 학습\n",
        "from sklearn.neighbors import KNeighborsClassifier\n",
        "\n",
        "kn = KNeighborsClassifier()\n",
        "kn.fit(train_input, train_target)\n",
        "print(\"테스트 세트 정확도:\", kn.score(test_input, test_target))\n",
        "\n",
        "# 문제 되는 샘플 (도미 25cm, 150g)\n",
        "print(\"예측:\", kn.predict([[25, 150]]))\n"
      ],
      "metadata": {
        "colab": {
          "base_uri": "https://localhost:8080/"
        },
        "id": "6cXO1crOOtOg",
        "outputId": "af9e0b54-d659-4c66-cf6c-8c4b0942b886"
      },
      "execution_count": null,
      "outputs": [
        {
          "output_type": "stream",
          "name": "stdout",
          "text": [
            "테스트 세트 정확도: 1.0\n",
            "예측: [0.]\n"
          ]
        }
      ]
    },
    {
      "cell_type": "code",
      "source": [
        "#표준화 후 KNN 학습\n",
        "from sklearn.preprocessing import StandardScaler\n",
        "\n",
        "scaler = StandardScaler()\n",
        "scaler.fit(train_input)\n",
        "train_scaled = scaler.transform(train_input)\n",
        "test_scaled = scaler.transform(test_input)\n",
        "\n",
        "kn.fit(train_scaled, train_target)\n",
        "print(\"테스트 세트 정확도(스케일링 후):\", kn.score(test_scaled, test_target))\n",
        "\n",
        "new = scaler.transform([[25, 150]])\n",
        "print(\"예측(스케일링 후):\", kn.predict(new))\n"
      ],
      "metadata": {
        "colab": {
          "base_uri": "https://localhost:8080/"
        },
        "id": "7-U6EldbPHqB",
        "outputId": "a17de3df-8869-4a8e-9088-50e183b1503f"
      },
      "execution_count": null,
      "outputs": [
        {
          "output_type": "stream",
          "name": "stdout",
          "text": [
            "테스트 세트 정확도(스케일링 후): 1.0\n",
            "예측(스케일링 후): [1.]\n"
          ]
        }
      ]
    },
    {
      "cell_type": "code",
      "source": [
        "# 5. 결론\n",
        "#- 스케일링 전에는 `25cm, 150g` 도미가 빙어로 잘못 분류됨.\n",
        "#- 스케일링 후에는 올바르게 도미로 분류됨.\n",
        "#- 전체 정확도는 비슷하지만, 특정 샘플의 분류 성능이 향상됨.\n"
      ],
      "metadata": {
        "id": "T0fZIBHiOveN"
      },
      "execution_count": null,
      "outputs": []
    }
  ]
}